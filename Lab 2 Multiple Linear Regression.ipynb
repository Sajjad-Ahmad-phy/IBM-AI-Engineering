{
 "cells": [
  {
   "cell_type": "markdown",
   "id": "4c9d1126-2e84-4c46-afff-2e9850aa1459",
   "metadata": {
    "jp-MarkdownHeadingCollapsed": true,
    "tags": []
   },
   "source": [
    "# Objectives:\n",
    "\n",
    "After completing this lab you will be able to:\n",
    "Use scikit-learn to implement Multiple Linear Regression\n",
    "Create a model, train it, test it and use the model\n"
   ]
  },
  {
   "cell_type": "code",
   "execution_count": 19,
   "id": "f11dae63-ee0c-446a-bdf8-31631b48616d",
   "metadata": {},
   "outputs": [
    {
     "name": "stdout",
     "output_type": "stream",
     "text": [
      "Coeffient:  [[-0.82793544  1.79314411 17.16869322]]\n",
      "Intercept:  [36.83022177]\n"
     ]
    }
   ],
   "source": [
    "from matplotlib import pyplot as plt\n",
    "import pandas as pd\n",
    "import numpy as np\n",
    "import pylab as pl\n",
    "\n",
    "'reading data file'\n",
    "df = pd.read_csv(\"C:\\\\Users\\\\lenovo\\\\OneDrive\\\\Desktop\\\\Fuel Consumption Ratings.csv\", encoding = 'latin-1')\n",
    "\n",
    "cdf = df[['Engine_Size', 'Cylinders', 'Fuel_Consumption', 'CO2_Emissions' , 'CO2']]\n",
    "cdf.head(10)\n",
    "\n",
    "'Creating test and train dataset'\n",
    "\n",
    "msk = np.random.rand(len(df)) < 0.8\n",
    "train = cdf[msk]\n",
    "test = cdf[~msk]\n",
    "\n",
    "'train data distribution'\n",
    "from sklearn import linear_model\n",
    "\n",
    "regr = linear_model.LinearRegression()                 \n",
    "train_x = np.asanyarray(train[['Engine_Size', 'Cylinders', 'Fuel_Consumption']])\n",
    "train_y = np.asanyarray(train[['CO2_Emissions']])\n",
    "regr.fit(train_x, train_y)\n",
    "                        \n",
    "print('Coeffient: ',  regr.coef_)\n",
    "print('Intercept: ', regr.intercept_)\n",
    "\n"
   ]
  },
  {
   "cell_type": "markdown",
   "id": "ff155850-7419-41de-911a-70b69007a459",
   "metadata": {
    "tags": []
   },
   "source": [
    "Scikit-learn uses plain Ordinary Least Squares method to solve this problem.\n",
    "\n",
    "# Ordinary Least Squares (OLS)\n",
    "OLS is a method for estimating the unknown parameters in a linear regression model. OLS chooses the parameters of a linear function of a set of explanatory variables by minimizing the sum of the squares of the differences between the target dependent variable and those predicted by the linear function. In other words, it tries to minimizes the sum of squared errors (SSE) or mean squared error (MSE) between the target variable (y) and our predicted output (y) over all samples in the dataset.\n",
    "\n",
    "OLS can find the best parameters using of the following methods:\n",
    "\n",
    "* Solving the model parameters analytically using closed-form equations\n",
    "* Using an optimization algorithm (Gradient Descent, Stochastic Gradient Descent, Newton’s Method, etc.)"
   ]
  },
  {
   "cell_type": "code",
   "execution_count": null,
   "id": "b4c83d3a-cb86-47dd-8923-a574b6a95e68",
   "metadata": {},
   "outputs": [],
   "source": []
  }
 ],
 "metadata": {
  "kernelspec": {
   "display_name": "Python 3 (ipykernel)",
   "language": "python",
   "name": "python3"
  },
  "language_info": {
   "codemirror_mode": {
    "name": "ipython",
    "version": 3
   },
   "file_extension": ".py",
   "mimetype": "text/x-python",
   "name": "python",
   "nbconvert_exporter": "python",
   "pygments_lexer": "ipython3",
   "version": "3.9.13"
  }
 },
 "nbformat": 4,
 "nbformat_minor": 5
}
