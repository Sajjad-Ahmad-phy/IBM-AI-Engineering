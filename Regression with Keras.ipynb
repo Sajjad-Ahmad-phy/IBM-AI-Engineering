{
 "cells": [
  {
   "cell_type": "markdown",
   "id": "2daa08bb",
   "metadata": {},
   "source": [
    "<h1 align=center><font size=5> Regression Model with Keras </font></h1>"
   ]
  },
  {
   "cell_type": "markdown",
   "id": "09a65b54",
   "metadata": {},
   "source": [
    "# Part B"
   ]
  },
  {
   "cell_type": "code",
   "execution_count": 58,
   "id": "c466e7bb",
   "metadata": {},
   "outputs": [
    {
     "data": {
      "text/plain": [
       "<keras.callbacks.History at 0x22c4058f3d0>"
      ]
     },
     "execution_count": 58,
     "metadata": {},
     "output_type": "execute_result"
    }
   ],
   "source": [
    "import keras\n",
    "from keras.models import Sequential\n",
    "from keras.layers import Dense\n",
    "\n",
    "import pandas as pd\n",
    "\n",
    "\n",
    "# Import data\n",
    "df = pd.read_csv('C:\\\\Users\\\\LENOVO\\\\OneDrive\\\\Desktop\\\\concrete_data.csv', encoding = 'latin-1')\n",
    "\n",
    "\"The target variable is the concreate sample strength\"\n",
    "X = df.drop(columns = ['Strength'])  # Predictor\n",
    "y = df['Strength'].values   #target\n",
    "\n",
    "# Test-Train Split\n",
    "from sklearn.model_selection import train_test_split\n",
    "train_X, test_X, train_y, test_y = train_test_split(X,y, test_size = 0.3, random_state = 4)\n",
    "n_cols = train_X.shape[1]\n",
    "\n",
    "def regression_model():\n",
    "    \n",
    "    # model\n",
    "    model = Sequential()\n",
    "    model.add(Dense(10, activation='relu', input_shape=(n_cols, )))    #Hidden layer\n",
    "    model.add(Dense(1))  #output layer\n",
    "    \n",
    "    'Optimizing the model'\n",
    "    model.compile(optimizer = 'adam', loss = 'mean_squared_error')\n",
    "    \n",
    "    return model   #Returning the mode \n",
    "\n",
    "# Training the model\n",
    "\"\"\"Next, we will train and test the model at the same time using the fit method.\n",
    "we will train the model for 50 epochs\"\"\"\n",
    "\n",
    "# Normalizing the data\n",
    "train_X_norm = (train_X - train_X.mean())/train_X.std()\n",
    "test_X_norm = (test_X - train_X.mean())/test_X.std()\n",
    "\n",
    "# Now trianing the model with normalized data\n",
    "model = regression_model()\n",
    "model.fit(train_X_norm, train_y, epochs = 50, verbose = 0)"
   ]
  },
  {
   "cell_type": "markdown",
   "id": "56f62708",
   "metadata": {},
   "source": [
    "###### Mean Squared Error"
   ]
  },
  {
   "cell_type": "code",
   "execution_count": 59,
   "id": "0b4c8695",
   "metadata": {},
   "outputs": [
    {
     "name": "stdout",
     "output_type": "stream",
     "text": [
      "10/10 [==============================] - 0s 3ms/step\n"
     ]
    },
    {
     "data": {
      "text/plain": [
       "301.8444645385453"
      ]
     },
     "execution_count": 59,
     "metadata": {},
     "output_type": "execute_result"
    }
   ],
   "source": [
    "import sklearn.metrics as metrics\n",
    "\n",
    "predictions = model.predict(test_X_norm)    # Predicting the targets for input testing data\n",
    "reg_MSE = metrics.mean_squared_error(test_y, predictions)   # mean squared error between predictions and actual values\n",
    "reg_MSE"
   ]
  },
  {
   "cell_type": "markdown",
   "id": "64d4f434",
   "metadata": {},
   "source": [
    "###### Creating a list of mean squared errors"
   ]
  },
  {
   "cell_type": "code",
   "execution_count": 60,
   "id": "0f7396ef",
   "metadata": {},
   "outputs": [
    {
     "name": "stdout",
     "output_type": "stream",
     "text": [
      "10/10 [==============================] - 0s 2ms/step\n",
      "10/10 [==============================] - 0s 2ms/step\n",
      "10/10 [==============================] - 0s 2ms/step\n",
      "10/10 [==============================] - 0s 2ms/step\n",
      "10/10 [==============================] - 0s 2ms/step\n",
      "10/10 [==============================] - 0s 2ms/step\n",
      "10/10 [==============================] - 0s 562us/step\n",
      "10/10 [==============================] - 0s 1ms/step\n",
      "10/10 [==============================] - 0s 916us/step\n",
      "10/10 [==============================] - 0s 1ms/step\n",
      "10/10 [==============================] - 0s 1ms/step\n",
      "10/10 [==============================] - 0s 2ms/step\n",
      "10/10 [==============================] - 0s 1ms/step\n",
      "10/10 [==============================] - 0s 2ms/step\n",
      "10/10 [==============================] - 0s 2ms/step\n",
      "10/10 [==============================] - 0s 3ms/step\n",
      "10/10 [==============================] - 0s 1ms/step\n",
      "10/10 [==============================] - 0s 2ms/step\n",
      "10/10 [==============================] - 0s 2ms/step\n",
      "10/10 [==============================] - 0s 3ms/step\n",
      "10/10 [==============================] - 0s 2ms/step\n",
      "10/10 [==============================] - 0s 2ms/step\n",
      "10/10 [==============================] - 0s 2ms/step\n",
      "10/10 [==============================] - 0s 1ms/step\n",
      "10/10 [==============================] - 0s 989us/step\n",
      "10/10 [==============================] - 0s 2ms/step\n",
      "10/10 [==============================] - 0s 2ms/step\n",
      "10/10 [==============================] - 0s 0s/step\n",
      "10/10 [==============================] - 0s 1ms/step\n",
      "10/10 [==============================] - 0s 2ms/step\n",
      "10/10 [==============================] - 0s 1ms/step\n",
      "10/10 [==============================] - 0s 2ms/step\n",
      "10/10 [==============================] - 0s 2ms/step\n",
      "10/10 [==============================] - 0s 2ms/step\n",
      "10/10 [==============================] - 0s 1ms/step\n",
      "10/10 [==============================] - 0s 2ms/step\n",
      "10/10 [==============================] - 0s 1ms/step\n",
      "10/10 [==============================] - 0s 2ms/step\n",
      "10/10 [==============================] - 0s 1ms/step\n",
      "10/10 [==============================] - 0s 1ms/step\n",
      "10/10 [==============================] - 0s 3ms/step\n",
      "10/10 [==============================] - 0s 2ms/step\n",
      "10/10 [==============================] - 0s 2ms/step\n",
      "10/10 [==============================] - 0s 2ms/step\n",
      "10/10 [==============================] - 0s 1ms/step\n",
      "10/10 [==============================] - 0s 1ms/step\n",
      "10/10 [==============================] - 0s 789us/step\n",
      "10/10 [==============================] - 0s 2ms/step\n",
      "10/10 [==============================] - 0s 2ms/step\n",
      "10/10 [==============================] - 0s 2ms/step\n"
     ]
    },
    {
     "data": {
      "text/plain": [
       "[1532.1889269961716,\n",
       " 1532.1889269961716,\n",
       " 1532.1889269961716,\n",
       " 1532.1889269961716,\n",
       " 1532.1889269961716,\n",
       " 1532.1889269961716,\n",
       " 1532.1889269961716,\n",
       " 1532.1889269961716,\n",
       " 1532.1889269961716,\n",
       " 1532.1889269961716,\n",
       " 1532.1889269961716,\n",
       " 1532.1889269961716,\n",
       " 1532.1889269961716,\n",
       " 1532.1889269961716,\n",
       " 1532.1889269961716,\n",
       " 1532.1889269961716,\n",
       " 1532.1889269961716,\n",
       " 1532.1889269961716,\n",
       " 1532.1889269961716,\n",
       " 1532.1889269961716,\n",
       " 1532.1889269961716,\n",
       " 1532.1889269961716,\n",
       " 1532.1889269961716,\n",
       " 1532.1889269961716,\n",
       " 1532.1889269961716,\n",
       " 1532.1889269961716,\n",
       " 1532.1889269961716,\n",
       " 1532.1889269961716,\n",
       " 1532.1889269961716,\n",
       " 1532.1889269961716,\n",
       " 1532.1889269961716,\n",
       " 1532.1889269961716,\n",
       " 1532.1889269961716,\n",
       " 1532.1889269961716,\n",
       " 1532.1889269961716,\n",
       " 1532.1889269961716,\n",
       " 1532.1889269961716,\n",
       " 1532.1889269961716,\n",
       " 1532.1889269961716,\n",
       " 1532.1889269961716,\n",
       " 1532.1889269961716,\n",
       " 1532.1889269961716,\n",
       " 1532.1889269961716,\n",
       " 1532.1889269961716,\n",
       " 1532.1889269961716,\n",
       " 1532.1889269961716,\n",
       " 1532.1889269961716,\n",
       " 1532.1889269961716,\n",
       " 1532.1889269961716,\n",
       " 1532.1889269961716]"
      ]
     },
     "execution_count": 60,
     "metadata": {},
     "output_type": "execute_result"
    }
   ],
   "source": [
    "mse_list = []    # we will append the mean square errors to this empty list\n",
    "\n",
    "# Runing the loop for 50 iterrations\n",
    "for i in range(50):\n",
    "    \n",
    "    # Test-Train Split\n",
    "    train_X, test_X, train_y, test_y = train_test_split(X,y, test_size = 0.3, random_state = 4,  shuffle=True)\n",
    "    train_X_norm = (train_X - train_X.mean())/train_X.std()\n",
    "    test_X_norm = (test_X - train_X.mean())/test_X.std()\n",
    "    \n",
    "    #fitting the model after randomly \n",
    "    model = regression_model().fit( train_X_norm, train_y, epochs = 50, verbose = 0)\n",
    "    predictions = pretrained_model.predict(test_X_norm)    # Predicting the targets for input testing data\n",
    "    reg_MSE = metrics.mean_squared_error(test_y, predictions)   # mean squared error between predictions and actual values\n",
    "    mse_list.append(reg_MSE)\n",
    "\n",
    "mse_list"
   ]
  },
  {
   "cell_type": "markdown",
   "id": "704c3a3b",
   "metadata": {},
   "source": [
    "###### mean and Standard deviation "
   ]
  },
  {
   "cell_type": "code",
   "execution_count": 61,
   "id": "1d66b355",
   "metadata": {},
   "outputs": [
    {
     "data": {
      "text/plain": [
       "1.8189894035458565e-12"
      ]
     },
     "execution_count": 61,
     "metadata": {},
     "output_type": "execute_result"
    }
   ],
   "source": [
    "import numpy as np\n",
    "# mean of the mean squared errors\n",
    "mean = sum(mse_list)/50 \n",
    "mean\n",
    "\n",
    "#standard deviation\n",
    "mse_std = np.sqrt(sum([(i-mean)**2 for i in mse_list]))/np.sqrt(50)\n",
    "mse_std"
   ]
  },
  {
   "cell_type": "markdown",
   "id": "0c4b79bf",
   "metadata": {},
   "source": [
    "# Part D"
   ]
  },
  {
   "cell_type": "code",
   "execution_count": 53,
   "id": "b0a698bb",
   "metadata": {},
   "outputs": [
    {
     "data": {
      "text/plain": [
       "<keras.callbacks.History at 0x22c39f799d0>"
      ]
     },
     "execution_count": 53,
     "metadata": {},
     "output_type": "execute_result"
    }
   ],
   "source": [
    "\"Building the model\"\n",
    "def regression_model():\n",
    "    # model\n",
    "    model = Sequential()\n",
    "    model.add(Dense(10, activation='relu', input_shape=(n_cols, )))    #1st Hidden layer\n",
    "    model.add(Dense(10, activation = 'relu'))                         # 2ne Hidden layer\n",
    "    model.add(Dense(10, activation = 'relu'))                         # 3rd hidden layer\n",
    "    model.add(Dense(1))  #output layer\n",
    "    \n",
    "    'Optimizing the model'\n",
    "    model.compile(optimizer = 'adam', loss = 'mean_squared_error')\n",
    "    \n",
    "    return model\n",
    "    \n",
    "train_X_norm = (train_X - train_X.mean())/train_X.std()\n",
    "test_X_norm = (test_X - train_X.mean())/test_X.std()\n",
    "\n",
    "# Now trianing the model with normalized data\n",
    "model = regression_model()\n",
    "model.fit(train_X_norm, train_y, epochs = 50, verbose = 0)"
   ]
  },
  {
   "cell_type": "markdown",
   "id": "21e68495",
   "metadata": {},
   "source": [
    "#### Mean Squared error"
   ]
  },
  {
   "cell_type": "code",
   "execution_count": 54,
   "id": "4e873b71",
   "metadata": {},
   "outputs": [
    {
     "name": "stdout",
     "output_type": "stream",
     "text": [
      "10/10 [==============================] - 0s 2ms/step\n"
     ]
    },
    {
     "data": {
      "text/plain": [
       "127.2055436292101"
      ]
     },
     "execution_count": 54,
     "metadata": {},
     "output_type": "execute_result"
    }
   ],
   "source": [
    "import sklearn.metrics as metrics\n",
    "\n",
    "predictions = model.predict(test_X_norm)    # Predicting the targets for input testing data\n",
    "reg_MSE = metrics.mean_squared_error(test_y, predictions)   # mean squared error between predictions and actual values\n",
    "reg_MSE"
   ]
  },
  {
   "cell_type": "markdown",
   "id": "20ed7071",
   "metadata": {},
   "source": [
    "#### Creating a list of 50 mean squared errors"
   ]
  },
  {
   "cell_type": "code",
   "execution_count": 55,
   "id": "cf8a37b8",
   "metadata": {},
   "outputs": [
    {
     "name": "stdout",
     "output_type": "stream",
     "text": [
      "10/10 [==============================] - 0s 3ms/step\n",
      "10/10 [==============================] - 0s 5ms/step\n",
      "10/10 [==============================] - 0s 3ms/step\n",
      "10/10 [==============================] - 0s 2ms/step\n",
      "10/10 [==============================] - 0s 5ms/step\n",
      "10/10 [==============================] - 0s 5ms/step\n",
      "10/10 [==============================] - 0s 3ms/step\n",
      "10/10 [==============================] - 0s 3ms/step\n",
      "10/10 [==============================] - 0s 1ms/step\n",
      "10/10 [==============================] - 0s 2ms/step\n",
      "10/10 [==============================] - 0s 2ms/step\n",
      "10/10 [==============================] - 0s 3ms/step\n",
      "10/10 [==============================] - 0s 4ms/step\n",
      "10/10 [==============================] - 0s 2ms/step\n",
      "10/10 [==============================] - 0s 3ms/step\n",
      "10/10 [==============================] - 0s 3ms/step\n",
      "10/10 [==============================] - 0s 2ms/step\n",
      "10/10 [==============================] - 0s 4ms/step\n",
      "10/10 [==============================] - 0s 3ms/step\n",
      "10/10 [==============================] - 0s 2ms/step\n",
      "10/10 [==============================] - 0s 2ms/step\n",
      "10/10 [==============================] - 0s 2ms/step\n",
      "10/10 [==============================] - 0s 2ms/step\n",
      "10/10 [==============================] - 0s 2ms/step\n",
      "10/10 [==============================] - 0s 2ms/step\n",
      "10/10 [==============================] - 0s 3ms/step\n",
      "10/10 [==============================] - 0s 3ms/step\n",
      "10/10 [==============================] - 0s 4ms/step\n",
      "10/10 [==============================] - 0s 2ms/step\n",
      "10/10 [==============================] - 0s 4ms/step\n",
      "10/10 [==============================] - 0s 4ms/step\n",
      "10/10 [==============================] - 0s 2ms/step\n",
      "10/10 [==============================] - 0s 4ms/step\n",
      "10/10 [==============================] - 0s 3ms/step\n",
      "10/10 [==============================] - 0s 4ms/step\n",
      "10/10 [==============================] - 0s 3ms/step\n",
      "10/10 [==============================] - 0s 2ms/step\n",
      "10/10 [==============================] - 0s 3ms/step\n",
      "10/10 [==============================] - 0s 2ms/step\n",
      "10/10 [==============================] - 0s 2ms/step\n",
      "10/10 [==============================] - 0s 3ms/step\n",
      "10/10 [==============================] - 0s 2ms/step\n",
      "10/10 [==============================] - 0s 2ms/step\n",
      "10/10 [==============================] - 0s 2ms/step\n",
      "10/10 [==============================] - 0s 2ms/step\n",
      "10/10 [==============================] - 0s 2ms/step\n",
      "10/10 [==============================] - 0s 2ms/step\n",
      "10/10 [==============================] - 0s 3ms/step\n",
      "10/10 [==============================] - 0s 3ms/step\n",
      "10/10 [==============================] - 0s 2ms/step\n"
     ]
    },
    {
     "data": {
      "text/plain": [
       "[1532.1889269961716,\n",
       " 1532.1889269961716,\n",
       " 1532.1889269961716,\n",
       " 1532.1889269961716,\n",
       " 1532.1889269961716,\n",
       " 1532.1889269961716,\n",
       " 1532.1889269961716,\n",
       " 1532.1889269961716,\n",
       " 1532.1889269961716,\n",
       " 1532.1889269961716,\n",
       " 1532.1889269961716,\n",
       " 1532.1889269961716,\n",
       " 1532.1889269961716,\n",
       " 1532.1889269961716,\n",
       " 1532.1889269961716,\n",
       " 1532.1889269961716,\n",
       " 1532.1889269961716,\n",
       " 1532.1889269961716,\n",
       " 1532.1889269961716,\n",
       " 1532.1889269961716,\n",
       " 1532.1889269961716,\n",
       " 1532.1889269961716,\n",
       " 1532.1889269961716,\n",
       " 1532.1889269961716,\n",
       " 1532.1889269961716,\n",
       " 1532.1889269961716,\n",
       " 1532.1889269961716,\n",
       " 1532.1889269961716,\n",
       " 1532.1889269961716,\n",
       " 1532.1889269961716,\n",
       " 1532.1889269961716,\n",
       " 1532.1889269961716,\n",
       " 1532.1889269961716,\n",
       " 1532.1889269961716,\n",
       " 1532.1889269961716,\n",
       " 1532.1889269961716,\n",
       " 1532.1889269961716,\n",
       " 1532.1889269961716,\n",
       " 1532.1889269961716,\n",
       " 1532.1889269961716,\n",
       " 1532.1889269961716,\n",
       " 1532.1889269961716,\n",
       " 1532.1889269961716,\n",
       " 1532.1889269961716,\n",
       " 1532.1889269961716,\n",
       " 1532.1889269961716,\n",
       " 1532.1889269961716,\n",
       " 1532.1889269961716,\n",
       " 1532.1889269961716,\n",
       " 1532.1889269961716]"
      ]
     },
     "execution_count": 55,
     "metadata": {},
     "output_type": "execute_result"
    }
   ],
   "source": [
    "mse_list = []    # we will append the mean square errors to this empty list\n",
    "\n",
    "# Runing the loop for 50 iterrations\n",
    "for i in range(50):\n",
    "    \n",
    "    # Test-Train Split\n",
    "    train_X, test_X, train_y, test_y = train_test_split(X,y, test_size = 0.3, random_state = 4,  shuffle=True)\n",
    "    train_X_norm = (train_X - train_X.mean())/train_X.std()\n",
    "    test_X_norm = (test_X - train_X.mean())/test_X.std()\n",
    "    \n",
    "    #fitting the model after randomly \n",
    "    model = regression_model().fit( train_X_norm, train_y, epochs = 50, verbose = 0)\n",
    "    predictions = pretrained_model.predict(test_X_norm)    # Predicting the targets for input testing data\n",
    "    reg_MSE = metrics.mean_squared_error(test_y, predictions)   # mean squared error between predictions and actual values\n",
    "    mse_list.append(reg_MSE)\n",
    "\n",
    "mse_list"
   ]
  },
  {
   "cell_type": "markdown",
   "id": "d2cdd2b1",
   "metadata": {},
   "source": [
    "###### Mean and the standard deviation the of the mean squared error."
   ]
  },
  {
   "cell_type": "code",
   "execution_count": 56,
   "id": "17c7454d",
   "metadata": {},
   "outputs": [
    {
     "data": {
      "text/plain": [
       "1.8189894035458565e-12"
      ]
     },
     "execution_count": 56,
     "metadata": {},
     "output_type": "execute_result"
    }
   ],
   "source": [
    "import numpy as np\n",
    "# mean of the mean squared errors\n",
    "mean = sum(mse_list)/50 \n",
    "mean\n",
    "\n",
    "#standard deviation\n",
    "mse_std = np.sqrt(sum([(i-mean)**2 for i in mse_list]))/np.sqrt(50)\n",
    "mse_std"
   ]
  },
  {
   "cell_type": "markdown",
   "id": "231e8357",
   "metadata": {},
   "source": [
    "The standard deviation is a little bit less than in part B."
   ]
  },
  {
   "cell_type": "code",
   "execution_count": null,
   "id": "f77a9ec9",
   "metadata": {},
   "outputs": [],
   "source": []
  }
 ],
 "metadata": {
  "kernelspec": {
   "display_name": "Python 3 (ipykernel)",
   "language": "python",
   "name": "python3"
  },
  "language_info": {
   "codemirror_mode": {
    "name": "ipython",
    "version": 3
   },
   "file_extension": ".py",
   "mimetype": "text/x-python",
   "name": "python",
   "nbconvert_exporter": "python",
   "pygments_lexer": "ipython3",
   "version": "3.9.13"
  }
 },
 "nbformat": 4,
 "nbformat_minor": 5
}
