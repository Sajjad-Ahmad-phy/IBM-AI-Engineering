{
 "cells": [
  {
   "cell_type": "markdown",
   "id": "b648af6e",
   "metadata": {
    "jp-MarkdownHeadingCollapsed": true,
    "tags": []
   },
   "source": [
    "# K-Nearest Neighbors\n",
    "\n",
    "## Objectives\n",
    "\n",
    "* Use the K Nearest Neighbors to classify data"
   ]
  },
  {
   "cell_type": "markdown",
   "id": "74dd3bad",
   "metadata": {},
   "source": [
    "**K-Nearest Neighbors** is a supervised learning algorithm. Where the data is 'trained' with data points corresponding to their classification. To predict the class of a given data point, it takes into account the classes of the 'K' nearest data points and chooses the class in which the majority of the 'K' nearest data points belong to as the predicted class."
   ]
  },
  {
   "cell_type": "markdown",
   "id": "47af0f95",
   "metadata": {},
   "source": [
    "## Here is a visualization of KNN algorithm\n",
    "<img src=\"https://cf-courses-data.s3.us.cloud-object-storage.appdomain.cloud/IBMDeveloperSkillsNetwork-ML0101EN-SkillsNetwork/labs/Module%203/images/KNN_Diagram.png\">\n"
   ]
  },
  {
   "cell_type": "markdown",
   "id": "3cc9dc00",
   "metadata": {},
   "source": [
    "* In this case, we have data points of Class A and B. \n",
    "* We want to predict which class the star (test data point) is. \n",
    "* If we consider a k value of 3 (3 nearest data points), we will obtain a prediction of Class B.\n",
    "* Yet if we consider a k value of 6, we will obtain a prediction of Class A."
   ]
  },
  {
   "cell_type": "markdown",
   "id": "aae26b3f-cec4-4835-935e-1c3f504459f7",
   "metadata": {
    "tags": []
   },
   "source": [
    "# About the dataset\n",
    "\n",
    "* Imagine a telecommunication company has segmented it cumstomer base by using service patterns,\n",
    "categorizing customers into four groups. We have given a labeled data and need to predict the class of \n",
    "a customer.\n",
    "The example focuses on using demographic data, such as region, age, and marital, to predict usage patterns.\n",
    "* The target field, called custcat, has four possible values that correspond to the four customer groups, as follows: 1- Basic Service 2- E-Service 3- Plus Service 4- Total Service\n",
    "Our objective is to build a classifier, to predict the class of unknown cases. We will use a specific type of classification called K nearest neighbour."
   ]
  },
  {
   "cell_type": "code",
   "execution_count": 39,
   "id": "fd6a804c",
   "metadata": {},
   "outputs": [
    {
     "name": "stderr",
     "output_type": "stream",
     "text": [
      "C:\\Users\\LENOVO\\anaconda3\\lib\\site-packages\\sklearn\\neighbors\\_classification.py:228: FutureWarning: Unlike other reduction functions (e.g. `skew`, `kurtosis`), the default behavior of `mode` typically preserves the axis it acts along. In SciPy 1.11.0, this behavior will change: the default value of `keepdims` will become False, the `axis` over which the statistic is taken will be eliminated, and the value None will no longer be accepted. Set `keepdims` to True or False to avoid this warning.\n",
      "  mode, _ = stats.mode(_y[neigh_ind, k], axis=1)\n",
      "C:\\Users\\LENOVO\\anaconda3\\lib\\site-packages\\sklearn\\neighbors\\_classification.py:228: FutureWarning: Unlike other reduction functions (e.g. `skew`, `kurtosis`), the default behavior of `mode` typically preserves the axis it acts along. In SciPy 1.11.0, this behavior will change: the default value of `keepdims` will become False, the `axis` over which the statistic is taken will be eliminated, and the value None will no longer be accepted. Set `keepdims` to True or False to avoid this warning.\n",
      "  mode, _ = stats.mode(_y[neigh_ind, k], axis=1)\n",
      "C:\\Users\\LENOVO\\anaconda3\\lib\\site-packages\\sklearn\\neighbors\\_classification.py:228: FutureWarning: Unlike other reduction functions (e.g. `skew`, `kurtosis`), the default behavior of `mode` typically preserves the axis it acts along. In SciPy 1.11.0, this behavior will change: the default value of `keepdims` will become False, the `axis` over which the statistic is taken will be eliminated, and the value None will no longer be accepted. Set `keepdims` to True or False to avoid this warning.\n",
      "  mode, _ = stats.mode(_y[neigh_ind, k], axis=1)\n"
     ]
    },
    {
     "data": {
      "text/plain": [
       "0.775"
      ]
     },
     "execution_count": 39,
     "metadata": {},
     "output_type": "execute_result"
    }
   ],
   "source": [
    "import numpy as np\n",
    "import pandas as pd\n",
    "from matplotlib import pyplot as plt\n",
    "\n",
    "df = pd.read_csv('D:\\\\Sajjad Ahmad\\\\Jupyter Projects\\\\IBM AI Engineering\\\\Mahine Learning with Python\\\\Data Files\\\\ChurnData.csv', encoding = 'latin-1')\n",
    "\n",
    "'Let’s see how many of each class is in our data set'\n",
    "df['custcat'].value_counts()\n",
    "\n",
    "#create a dataframe with all training data except the target column\n",
    "X = df.drop(columns=['custcat'])\n",
    "\n",
    "y = df['custcat'].values\n",
    "\n",
    "from sklearn import preprocessing\n",
    "# Normalize Data Set\n",
    "X = preprocessing.StandardScaler().fit(X).transform(X.astype(float))\n",
    "\n",
    "'Train-test Samples'\n",
    "from sklearn.model_selection import train_test_split\n",
    "\n",
    "train_x, test_x, train_y, test_y = train_test_split(X, y, test_size = 0.2, random_state = 4, stratify = y)\n",
    "\n",
    "# print('train set: ', train_x.shape, train_y.shape)\n",
    "# print('test set: ', test_x.shape, test_y.shape)\n",
    "\n",
    "\"\"\"Classification\n",
    "K nearest neighbor (KNN)\"\"\"\n",
    "\n",
    "from sklearn.neighbors import KNeighborsClassifier as KNN\n",
    "\n",
    "# let's \n",
    "k = 4    # it means that the new data point is labeled with majority of 4 nearest points\n",
    "\n",
    "# Train Model and predict\n",
    "knn = KNN(n_neighbors = k).fit(train_x, train_y)\n",
    "\n",
    "#predicting\n",
    "y_hat = knn.predict(test_x)\n",
    "\n",
    "'Checking Accuracy of our Model'\n",
    "knn.score(test_x, test_y)\n",
    "knn.score(train_x, train_y)"
   ]
  },
  {
   "cell_type": "markdown",
   "id": "13d6a5ef-3dd7-4bec-9d24-b3553e85c027",
   "metadata": {},
   "source": [
    "# k-Fold Cross-Validation\n",
    "* When the data is split into multiple groups one of them is used as test group and other as train.\n",
    "The model is trained on training set and scored on test set. The process is repeated for all groups."
   ]
  },
  {
   "cell_type": "code",
   "execution_count": null,
   "id": "4224457c-9ee3-4b47-96d7-fdd8cefb1697",
   "metadata": {},
   "outputs": [],
   "source": []
  }
 ],
 "metadata": {
  "kernelspec": {
   "display_name": "Python 3 (ipykernel)",
   "language": "python",
   "name": "python3"
  },
  "language_info": {
   "codemirror_mode": {
    "name": "ipython",
    "version": 3
   },
   "file_extension": ".py",
   "mimetype": "text/x-python",
   "name": "python",
   "nbconvert_exporter": "python",
   "pygments_lexer": "ipython3",
   "version": "3.9.13"
  }
 },
 "nbformat": 4,
 "nbformat_minor": 5
}
