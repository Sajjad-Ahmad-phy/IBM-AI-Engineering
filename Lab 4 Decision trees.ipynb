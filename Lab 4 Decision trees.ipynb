{
 "cells": [
  {
   "cell_type": "markdown",
   "id": "a6971b6a",
   "metadata": {
    "tags": []
   },
   "source": [
    "# Decision Trees\n",
    "\n",
    "## Objectives\n",
    "* Develope a classification model using Decision trees algorithm.\n"
   ]
  },
  {
   "cell_type": "markdown",
   "id": "7f1f799b",
   "metadata": {},
   "source": [
    "*  Build a model from the historical data of patients, and their response to different medications. \n",
    "Then you will use the trained decision tree to predict the class of an unknown patient, \n",
    "or to find a proper drug for a new patient"
   ]
  },
  {
   "cell_type": "markdown",
   "id": "0234b85c",
   "metadata": {},
   "source": [
    "* Important Libraries"
   ]
  },
  {
   "cell_type": "markdown",
   "id": "8bbc3b02",
   "metadata": {},
   "source": [
    "* As some features in this dataset are categorical, such as Sex or BP. \n",
    "Unfortunately, Sklearn Decision Trees does not handle categorical variables. \n",
    "We can still convert these features to numerical values using LabelEncoder to convert \n",
    "the categorical variable into numerical variables.\n"
   ]
  },
  {
   "cell_type": "code",
   "execution_count": null,
   "id": "af0d9db8",
   "metadata": {},
   "outputs": [],
   "source": [
    "df = pd.read_csv('C:\\\\Users\\\\LENOVO\\\\OneDrive\\\\Desktop\\\\drug200.csv', encoding = 'latin-1')\n",
    "\n",
    "X = df.drop(columns = ['Drug'])   # Features Matrix \n",
    "y = df['Drug'].values   # Response vector (target)\n",
    "\n",
    "\n",
    "# Preprocessing\n",
    "from sklearn import preprocessing\n",
    "\n",
    "le_sex = preprocessing.LabelEncoder()\n",
    "le_sex.fit(['F', 'M'])\n",
    "X['Sex'] = le_sex.transform(X['Sex']) \n",
    "\n",
    "le_BP = preprocessing.LabelEncoder()\n",
    "le_BP.fit(['HIGH', 'LOW', 'NORMAL'])\n",
    "X['BP'] = le_BP.transform(X['BP'])\n",
    "\n",
    "le_Chol = preprocessing.LabelEncoder()\n",
    "le_Chol.fit(['HIGH', 'NORMAL'])\n",
    "X['Cholesterol'] = le_Chol.transform(X['Cholesterol'])"
   ]
  },
  {
   "cell_type": "markdown",
   "id": "9ef804eb",
   "metadata": {
    "tags": []
   },
   "source": [
    "# Developing Model\n",
    "\n",
    "* First we create an instance of DecisionTreesClassifier as drugtree.\n",
    "* Inside of classifier, we specify *criterion = \"entropy\"* so we can see the information gain of each node.\n"
   ]
  },
  {
   "cell_type": "code",
   "execution_count": null,
   "id": "143eff60",
   "metadata": {},
   "outputs": [],
   "source": [
    "from sklearn.tree import DecisionTreeClassifier\n",
    "\n",
    "drugtree = DecisionTreeClassifier(criterion = 'entropy', max_depth = 4)\n",
    "drugtree"
   ]
  },
  {
   "cell_type": "markdown",
   "id": "a05cedd4",
   "metadata": {},
   "source": [
    "* Now Training the model"
   ]
  },
  {
   "cell_type": "code",
   "execution_count": null,
   "id": "5fe6c269",
   "metadata": {},
   "outputs": [],
   "source": [
    "drugtree.fit(X_train, y_train)"
   ]
  },
  {
   "cell_type": "markdown",
   "id": "d643a50d",
   "metadata": {},
   "source": [
    "#### Predictions\n",
    "* Let's make some predictions on the testing dataset and store it into a variable called predTree."
   ]
  },
  {
   "cell_type": "code",
   "execution_count": null,
   "id": "847c4045",
   "metadata": {},
   "outputs": [],
   "source": [
    "predtree = drugtree.predict(X_test)"
   ]
  },
  {
   "cell_type": "markdown",
   "id": "9f62fc8e",
   "metadata": {},
   "source": [
    "You can print out **predTree** and **y_testset** if you want to visually compare the predictions to the actual values."
   ]
  },
  {
   "cell_type": "code",
   "execution_count": 37,
   "id": "d20c10cf",
   "metadata": {},
   "outputs": [
    {
     "ename": "NameError",
     "evalue": "name 'predTree' is not defined",
     "output_type": "error",
     "traceback": [
      "\u001b[1;31m---------------------------------------------------------------------------\u001b[0m",
      "\u001b[1;31mNameError\u001b[0m                                 Traceback (most recent call last)",
      "\u001b[1;32m~\\AppData\\Local\\Temp\\ipykernel_19828\\772696532.py\u001b[0m in \u001b[0;36m<module>\u001b[1;34m\u001b[0m\n\u001b[1;32m----> 1\u001b[1;33m \u001b[0mprint\u001b[0m \u001b[1;33m(\u001b[0m\u001b[0mpredTree\u001b[0m \u001b[1;33m[\u001b[0m\u001b[1;36m0\u001b[0m\u001b[1;33m:\u001b[0m\u001b[1;36m5\u001b[0m\u001b[1;33m]\u001b[0m\u001b[1;33m)\u001b[0m\u001b[1;33m\u001b[0m\u001b[1;33m\u001b[0m\u001b[0m\n\u001b[0m\u001b[0;32m      2\u001b[0m \u001b[0mprint\u001b[0m \u001b[1;33m(\u001b[0m\u001b[0my_testset\u001b[0m \u001b[1;33m[\u001b[0m\u001b[1;36m0\u001b[0m\u001b[1;33m:\u001b[0m\u001b[1;36m5\u001b[0m\u001b[1;33m]\u001b[0m\u001b[1;33m)\u001b[0m\u001b[1;33m\u001b[0m\u001b[1;33m\u001b[0m\u001b[0m\n",
      "\u001b[1;31mNameError\u001b[0m: name 'predTree' is not defined"
     ]
    }
   ],
   "source": [
    "print (predTree [0:5])\n",
    "print (y_test [0:5])"
   ]
  },
  {
   "cell_type": "markdown",
   "id": "61d2fd9b",
   "metadata": {},
   "source": [
    "#### Evaluation\n",
    "* We can check the score of our model.\n"
   ]
  },
  {
   "cell_type": "code",
   "execution_count": null,
   "id": "5d3ff06a",
   "metadata": {},
   "outputs": [],
   "source": [
    "'Checking Accuracy of our Model'\n",
    "drugtree.score(X_test, y_test)\n",
    "drugtree.score(X_train, y_train)"
   ]
  },
  {
   "cell_type": "code",
   "execution_count": null,
   "id": "f1560edd",
   "metadata": {},
   "outputs": [],
   "source": []
  },
  {
   "cell_type": "markdown",
   "id": "bc07c608",
   "metadata": {},
   "source": [
    "#### Putting the code together\n"
   ]
  },
  {
   "cell_type": "code",
   "execution_count": 48,
   "id": "60ba17be",
   "metadata": {},
   "outputs": [
    {
     "name": "stdout",
     "output_type": "stream",
     "text": [
      "['drugY' 'drugX' 'drugX' 'drugX' 'drugX']\n",
      "['drugY' 'drugX' 'drugX' 'drugX' 'drugX']\n"
     ]
    },
    {
     "data": {
      "text/plain": [
       "1.0"
      ]
     },
     "execution_count": 48,
     "metadata": {},
     "output_type": "execute_result"
    }
   ],
   "source": [
    "import numpy as np\n",
    "import pandas as pd\n",
    "import sklearn.tree as tree\n",
    "from sklearn.tree import DecisionTreeClassifier\n",
    "\n",
    "df = pd.read_csv('C:\\\\Users\\\\LENOVO\\\\OneDrive\\\\Desktop\\\\drug200.csv', encoding = 'latin-1')\n",
    "\n",
    "X = df.drop(columns = ['Drug'])   # Features Matrix \n",
    "y = df['Drug'].values   # Response vector (target)\n",
    "\n",
    "# Preprocessing\n",
    "from sklearn import preprocessing\n",
    "\n",
    "le_sex = preprocessing.LabelEncoder()\n",
    "le_sex.fit(['F', 'M'])\n",
    "X['Sex'] = le_sex.transform(X['Sex']) \n",
    "\n",
    "le_BP = preprocessing.LabelEncoder()\n",
    "le_BP.fit(['HIGH', 'LOW', 'NORMAL'])\n",
    "X['BP'] = le_BP.transform(X['BP'])\n",
    "\n",
    "le_Chol = preprocessing.LabelEncoder()\n",
    "le_Chol.fit(['HIGH', 'NORMAL'])\n",
    "X['Cholesterol'] = le_Chol.transform(X['Cholesterol'])\n",
    "\n",
    "#Test-train Splitting\n",
    "from sklearn.model_selection import train_test_split\n",
    "X_train, X_test, y_train, y_test = train_test_split(X, y, test_size = 0.3, random_state = 3)\n",
    "\n",
    "# Modeling\n",
    "drugtree = DecisionTreeClassifier(criterion = 'entropy', max_depth = 4)\n",
    "drugtree.fit(X_train, y_train)\n",
    "\n",
    "#Prediction\n",
    "predtree = drugtree.predict(X_test)\n",
    "\n",
    "print (predTree [0:5])\n",
    "print (y_test [0:5])\n",
    "\n",
    "#evaluation\n",
    "drugtree.score(X_test, y_test)\n",
    "drugtree.score(X_train, y_train)"
   ]
  },
  {
   "cell_type": "code",
   "execution_count": null,
   "id": "2a6601c0",
   "metadata": {},
   "outputs": [],
   "source": []
  }
 ],
 "metadata": {
  "kernelspec": {
   "display_name": "Python 3 (ipykernel)",
   "language": "python",
   "name": "python3"
  },
  "language_info": {
   "codemirror_mode": {
    "name": "ipython",
    "version": 3
   },
   "file_extension": ".py",
   "mimetype": "text/x-python",
   "name": "python",
   "nbconvert_exporter": "python",
   "pygments_lexer": "ipython3",
   "version": "3.9.13"
  }
 },
 "nbformat": 4,
 "nbformat_minor": 5
}
