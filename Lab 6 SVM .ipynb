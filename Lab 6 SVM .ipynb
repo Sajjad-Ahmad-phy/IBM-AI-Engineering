{
 "cells": [
  {
   "cell_type": "markdown",
   "id": "88a5739f",
   "metadata": {},
   "source": [
    "### SVM (Support Vector Machine)"
   ]
  },
  {
   "cell_type": "markdown",
   "id": "8cd39413",
   "metadata": {},
   "source": [
    "##### Objectives\n",
    "* Using Sci-kit learn to Support Vector Machine:"
   ]
  },
  {
   "cell_type": "markdown",
   "id": "c564199a",
   "metadata": {},
   "source": [
    "In this cell we'll use SVM and Build & train a model on human cell records,  and to classify that a new testing cell is benign or malignant.\n",
    "\n",
    "SVM works by mapping data into a higher dimenssional feature space so that the data can be classified, even when the data is not linearly separable.\n",
    "A separator between the categories is found, then the data is transformed in a such a way that the separator could be drawn as a hyperplane. Following this, cherecterize the new data can be used to predict to which group it belongs.\n",
    "    "
   ]
  },
  {
   "cell_type": "code",
   "execution_count": null,
   "id": "1d77ce75",
   "metadata": {},
   "outputs": [],
   "source": []
  }
 ],
 "metadata": {
  "kernelspec": {
   "display_name": "Python 3 (ipykernel)",
   "language": "python",
   "name": "python3"
  },
  "language_info": {
   "codemirror_mode": {
    "name": "ipython",
    "version": 3
   },
   "file_extension": ".py",
   "mimetype": "text/x-python",
   "name": "python",
   "nbconvert_exporter": "python",
   "pygments_lexer": "ipython3",
   "version": "3.9.13"
  }
 },
 "nbformat": 4,
 "nbformat_minor": 5
}
